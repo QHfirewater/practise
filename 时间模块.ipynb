{
 "cells": [
  {
   "cell_type": "markdown",
   "metadata": {
    "toc": true
   },
   "source": [
    "<h1>目录<span class=\"tocSkip\"></span></h1>\n",
    "<div class=\"toc\"><ul class=\"toc-item\"><li><span><a href=\"#date对象构建\" data-toc-modified-id=\"date对象构建-1\"><span class=\"toc-item-num\">1&nbsp;&nbsp;</span>date对象构建</a></span></li><li><span><a href=\"#time对象构建\" data-toc-modified-id=\"time对象构建-2\"><span class=\"toc-item-num\">2&nbsp;&nbsp;</span>time对象构建</a></span></li><li><span><a href=\"#datetime对象构建\" data-toc-modified-id=\"datetime对象构建-3\"><span class=\"toc-item-num\">3&nbsp;&nbsp;</span>datetime对象构建</a></span></li><li><span><a href=\"#timedelta-对象构建\" data-toc-modified-id=\"timedelta-对象构建-4\"><span class=\"toc-item-num\">4&nbsp;&nbsp;</span>timedelta 对象构建</a></span></li><li><span><a href=\"#时间对象转字符串\" data-toc-modified-id=\"时间对象转字符串-5\"><span class=\"toc-item-num\">5&nbsp;&nbsp;</span>时间对象转字符串</a></span></li><li><span><a href=\"#字符串对象转时间格式\" data-toc-modified-id=\"字符串对象转时间格式-6\"><span class=\"toc-item-num\">6&nbsp;&nbsp;</span>字符串对象转时间格式</a></span></li><li><span><a href=\"#时间戳转为时间对象\" data-toc-modified-id=\"时间戳转为时间对象-7\"><span class=\"toc-item-num\">7&nbsp;&nbsp;</span>时间戳转为时间对象</a></span></li><li><span><a href=\"#时间的运算\" data-toc-modified-id=\"时间的运算-8\"><span class=\"toc-item-num\">8&nbsp;&nbsp;</span>时间的运算</a></span></li></ul></div>"
   ]
  },
  {
   "cell_type": "code",
   "execution_count": 1,
   "metadata": {
    "ExecuteTime": {
     "end_time": "2021-02-11T05:36:22.497693Z",
     "start_time": "2021-02-11T05:36:22.495187Z"
    }
   },
   "outputs": [],
   "source": [
    "import datetime\n",
    "import time"
   ]
  },
  {
   "cell_type": "markdown",
   "metadata": {},
   "source": [
    "## date对象构建"
   ]
  },
  {
   "cell_type": "code",
   "execution_count": 2,
   "metadata": {
    "ExecuteTime": {
     "end_time": "2021-02-11T05:36:22.515686Z",
     "start_time": "2021-02-11T05:36:22.499177Z"
    }
   },
   "outputs": [],
   "source": [
    "d1 = datetime.date(2021,2,10)"
   ]
  },
  {
   "cell_type": "code",
   "execution_count": 3,
   "metadata": {
    "ExecuteTime": {
     "end_time": "2021-02-11T05:36:22.527653Z",
     "start_time": "2021-02-11T05:36:22.516683Z"
    }
   },
   "outputs": [
    {
     "data": {
      "text/plain": [
       "datetime.date(2021, 2, 10)"
      ]
     },
     "execution_count": 3,
     "metadata": {},
     "output_type": "execute_result"
    }
   ],
   "source": [
    "d1"
   ]
  },
  {
   "cell_type": "code",
   "execution_count": 4,
   "metadata": {
    "ExecuteTime": {
     "end_time": "2021-02-11T05:36:22.535631Z",
     "start_time": "2021-02-11T05:36:22.528650Z"
    }
   },
   "outputs": [
    {
     "name": "stdout",
     "output_type": "stream",
     "text": [
      "2021-02-10\n"
     ]
    }
   ],
   "source": [
    "print(d1)"
   ]
  },
  {
   "cell_type": "code",
   "execution_count": 5,
   "metadata": {
    "ExecuteTime": {
     "end_time": "2021-02-11T05:36:22.544608Z",
     "start_time": "2021-02-11T05:36:22.536630Z"
    }
   },
   "outputs": [
    {
     "data": {
      "text/plain": [
       "'日期所属的年份是：2021'"
      ]
     },
     "execution_count": 5,
     "metadata": {},
     "output_type": "execute_result"
    }
   ],
   "source": [
    "f'日期所属的年份是：{d1.year}'"
   ]
  },
  {
   "cell_type": "code",
   "execution_count": 6,
   "metadata": {
    "ExecuteTime": {
     "end_time": "2021-02-11T05:36:22.554581Z",
     "start_time": "2021-02-11T05:36:22.546606Z"
    }
   },
   "outputs": [
    {
     "data": {
      "text/plain": [
       "'日期所属的月份是:2'"
      ]
     },
     "execution_count": 6,
     "metadata": {},
     "output_type": "execute_result"
    }
   ],
   "source": [
    "f'日期所属的月份是:{d1.month}'"
   ]
  },
  {
   "cell_type": "code",
   "execution_count": 7,
   "metadata": {
    "ExecuteTime": {
     "end_time": "2021-02-11T05:36:22.563558Z",
     "start_time": "2021-02-11T05:36:22.556575Z"
    }
   },
   "outputs": [
    {
     "data": {
      "text/plain": [
       "'日期具体的日期号是：10'"
      ]
     },
     "execution_count": 7,
     "metadata": {},
     "output_type": "execute_result"
    }
   ],
   "source": [
    "f'日期具体的日期号是：{d1.day}'"
   ]
  },
  {
   "cell_type": "markdown",
   "metadata": {},
   "source": [
    "## time对象构建"
   ]
  },
  {
   "cell_type": "code",
   "execution_count": 8,
   "metadata": {
    "ExecuteTime": {
     "end_time": "2021-02-11T05:36:22.572534Z",
     "start_time": "2021-02-11T05:36:22.564554Z"
    }
   },
   "outputs": [],
   "source": [
    "t1 = datetime.time(20,10,1)"
   ]
  },
  {
   "cell_type": "code",
   "execution_count": 9,
   "metadata": {
    "ExecuteTime": {
     "end_time": "2021-02-11T05:36:22.581510Z",
     "start_time": "2021-02-11T05:36:22.573531Z"
    }
   },
   "outputs": [
    {
     "name": "stdout",
     "output_type": "stream",
     "text": [
      "20:10:01\n"
     ]
    }
   ],
   "source": [
    "print(t1)"
   ]
  },
  {
   "cell_type": "code",
   "execution_count": 10,
   "metadata": {
    "ExecuteTime": {
     "end_time": "2021-02-11T05:36:22.592479Z",
     "start_time": "2021-02-11T05:36:22.582507Z"
    }
   },
   "outputs": [
    {
     "data": {
      "text/plain": [
       "'time 所属的小时是：20'"
      ]
     },
     "execution_count": 10,
     "metadata": {},
     "output_type": "execute_result"
    }
   ],
   "source": [
    "f'time 所属的小时是：{t1.hour}'"
   ]
  },
  {
   "cell_type": "code",
   "execution_count": 11,
   "metadata": {
    "ExecuteTime": {
     "end_time": "2021-02-11T05:36:22.601456Z",
     "start_time": "2021-02-11T05:36:22.593477Z"
    }
   },
   "outputs": [
    {
     "data": {
      "text/plain": [
       "'time所属的分钟是：20'"
      ]
     },
     "execution_count": 11,
     "metadata": {},
     "output_type": "execute_result"
    }
   ],
   "source": [
    "f'time所属的分钟是：{t1.hour}'"
   ]
  },
  {
   "cell_type": "code",
   "execution_count": 12,
   "metadata": {
    "ExecuteTime": {
     "end_time": "2021-02-11T05:36:22.610433Z",
     "start_time": "2021-02-11T05:36:22.602453Z"
    }
   },
   "outputs": [
    {
     "data": {
      "text/plain": [
       "'time所属的秒为:1'"
      ]
     },
     "execution_count": 12,
     "metadata": {},
     "output_type": "execute_result"
    }
   ],
   "source": [
    "f'time所属的秒为:{t1.second}'"
   ]
  },
  {
   "cell_type": "markdown",
   "metadata": {},
   "source": [
    "## datetime对象构建"
   ]
  },
  {
   "cell_type": "code",
   "execution_count": 13,
   "metadata": {
    "ExecuteTime": {
     "end_time": "2021-02-11T05:36:22.618411Z",
     "start_time": "2021-02-11T05:36:22.611429Z"
    }
   },
   "outputs": [],
   "source": [
    "dt1 = datetime.datetime(2021,2,10,22,27,3)"
   ]
  },
  {
   "cell_type": "code",
   "execution_count": 14,
   "metadata": {
    "ExecuteTime": {
     "end_time": "2021-02-11T05:36:22.630378Z",
     "start_time": "2021-02-11T05:36:22.619408Z"
    }
   },
   "outputs": [
    {
     "data": {
      "text/plain": [
       "datetime.datetime(2021, 2, 10, 22, 27, 3)"
      ]
     },
     "execution_count": 14,
     "metadata": {},
     "output_type": "execute_result"
    }
   ],
   "source": [
    "dt1"
   ]
  },
  {
   "cell_type": "code",
   "execution_count": 15,
   "metadata": {
    "ExecuteTime": {
     "end_time": "2021-02-11T05:36:22.638357Z",
     "start_time": "2021-02-11T05:36:22.631376Z"
    }
   },
   "outputs": [
    {
     "data": {
      "text/plain": [
       "2021"
      ]
     },
     "execution_count": 15,
     "metadata": {},
     "output_type": "execute_result"
    }
   ],
   "source": [
    "dt1.year"
   ]
  },
  {
   "cell_type": "code",
   "execution_count": 16,
   "metadata": {
    "ExecuteTime": {
     "end_time": "2021-02-11T05:36:22.649328Z",
     "start_time": "2021-02-11T05:36:22.639355Z"
    }
   },
   "outputs": [
    {
     "data": {
      "text/plain": [
       "datetime.datetime(2021, 2, 10, 20, 10, 1)"
      ]
     },
     "execution_count": 16,
     "metadata": {},
     "output_type": "execute_result"
    }
   ],
   "source": [
    "datetime.datetime.combine(d1,t1)"
   ]
  },
  {
   "cell_type": "code",
   "execution_count": 17,
   "metadata": {
    "ExecuteTime": {
     "end_time": "2021-02-11T05:36:22.659301Z",
     "start_time": "2021-02-11T05:36:22.650325Z"
    }
   },
   "outputs": [
    {
     "data": {
      "text/plain": [
       "2"
      ]
     },
     "execution_count": 17,
     "metadata": {},
     "output_type": "execute_result"
    }
   ],
   "source": [
    "dt1.weekday()"
   ]
  },
  {
   "cell_type": "code",
   "execution_count": 18,
   "metadata": {
    "ExecuteTime": {
     "end_time": "2021-02-11T05:36:22.668278Z",
     "start_time": "2021-02-11T05:36:22.660299Z"
    }
   },
   "outputs": [],
   "source": [
    "dt2 = datetime.datetime.now()"
   ]
  },
  {
   "cell_type": "code",
   "execution_count": 19,
   "metadata": {
    "ExecuteTime": {
     "end_time": "2021-02-11T05:36:22.678251Z",
     "start_time": "2021-02-11T05:36:22.670272Z"
    }
   },
   "outputs": [
    {
     "data": {
      "text/plain": [
       "datetime.datetime(2021, 2, 11, 13, 36, 22, 666284)"
      ]
     },
     "execution_count": 19,
     "metadata": {},
     "output_type": "execute_result"
    }
   ],
   "source": [
    "dt2"
   ]
  },
  {
   "cell_type": "code",
   "execution_count": 20,
   "metadata": {
    "ExecuteTime": {
     "end_time": "2021-02-11T05:36:22.688225Z",
     "start_time": "2021-02-11T05:36:22.680246Z"
    }
   },
   "outputs": [
    {
     "data": {
      "text/plain": [
       "3"
      ]
     },
     "execution_count": 20,
     "metadata": {},
     "output_type": "execute_result"
    }
   ],
   "source": [
    "dt2.weekday()"
   ]
  },
  {
   "cell_type": "code",
   "execution_count": 21,
   "metadata": {
    "ExecuteTime": {
     "end_time": "2021-02-11T05:36:22.699196Z",
     "start_time": "2021-02-11T05:36:22.689221Z"
    }
   },
   "outputs": [
    {
     "data": {
      "text/plain": [
       "4"
      ]
     },
     "execution_count": 21,
     "metadata": {},
     "output_type": "execute_result"
    }
   ],
   "source": [
    "dt2.isoweekday()"
   ]
  },
  {
   "cell_type": "code",
   "execution_count": 22,
   "metadata": {
    "ExecuteTime": {
     "end_time": "2021-02-11T05:36:22.710166Z",
     "start_time": "2021-02-11T05:36:22.700194Z"
    }
   },
   "outputs": [
    {
     "data": {
      "text/plain": [
       "datetime.datetime(2019, 2, 11, 13, 36, 22, 666284)"
      ]
     },
     "execution_count": 22,
     "metadata": {},
     "output_type": "execute_result"
    }
   ],
   "source": [
    "dt2.replace(year = 2019)"
   ]
  },
  {
   "cell_type": "markdown",
   "metadata": {},
   "source": [
    "## timedelta 对象构建\n",
    "\n",
    "timedelta对象表示两个date或time 或者datetime的时间间隔"
   ]
  },
  {
   "cell_type": "code",
   "execution_count": 23,
   "metadata": {
    "ExecuteTime": {
     "end_time": "2021-02-11T05:36:22.718144Z",
     "start_time": "2021-02-11T05:36:22.711163Z"
    }
   },
   "outputs": [],
   "source": [
    "delta = datetime.timedelta(weeks = 3,days= 10,hours = 6,minutes =50,\n",
    "                           seconds = 30,microseconds = 1000,milliseconds =100 )"
   ]
  },
  {
   "cell_type": "code",
   "execution_count": 24,
   "metadata": {
    "ExecuteTime": {
     "end_time": "2021-02-11T05:36:22.728120Z",
     "start_time": "2021-02-11T05:36:22.719142Z"
    }
   },
   "outputs": [
    {
     "data": {
      "text/plain": [
       "datetime.timedelta(days=31, seconds=24630, microseconds=101000)"
      ]
     },
     "execution_count": 24,
     "metadata": {},
     "output_type": "execute_result"
    }
   ],
   "source": [
    "delta"
   ]
  },
  {
   "cell_type": "markdown",
   "metadata": {},
   "source": [
    "## 时间对象转字符串\n",
    "\n",
    "strftime 英文全称为str format time ,字符串化时间"
   ]
  },
  {
   "cell_type": "code",
   "execution_count": 27,
   "metadata": {
    "ExecuteTime": {
     "end_time": "2021-02-11T05:40:59.729737Z",
     "start_time": "2021-02-11T05:40:59.725713Z"
    }
   },
   "outputs": [
    {
     "data": {
      "text/plain": [
       "datetime.date(2021, 2, 11)"
      ]
     },
     "execution_count": 27,
     "metadata": {},
     "output_type": "execute_result"
    }
   ],
   "source": [
    "d1 = datetime.date(2021,2,11)\n",
    "d1"
   ]
  },
  {
   "cell_type": "code",
   "execution_count": 28,
   "metadata": {
    "ExecuteTime": {
     "end_time": "2021-02-11T05:41:29.290457Z",
     "start_time": "2021-02-11T05:41:29.286467Z"
    }
   },
   "outputs": [
    {
     "data": {
      "text/plain": [
       "'2021-02-11'"
      ]
     },
     "execution_count": 28,
     "metadata": {},
     "output_type": "execute_result"
    }
   ],
   "source": [
    "d1.strftime('%Y-%m-%d')"
   ]
  },
  {
   "cell_type": "code",
   "execution_count": 29,
   "metadata": {
    "ExecuteTime": {
     "end_time": "2021-02-11T05:42:02.552160Z",
     "start_time": "2021-02-11T05:42:02.548170Z"
    }
   },
   "outputs": [
    {
     "data": {
      "text/plain": [
       "'Feb 11,2021'"
      ]
     },
     "execution_count": 29,
     "metadata": {},
     "output_type": "execute_result"
    }
   ],
   "source": [
    "d1.strftime('%b %d,%Y')"
   ]
  },
  {
   "cell_type": "code",
   "execution_count": 31,
   "metadata": {
    "ExecuteTime": {
     "end_time": "2021-02-11T05:42:46.795122Z",
     "start_time": "2021-02-11T05:42:46.790109Z"
    }
   },
   "outputs": [
    {
     "data": {
      "text/plain": [
       "datetime.time(13, 42, 45)"
      ]
     },
     "execution_count": 31,
     "metadata": {},
     "output_type": "execute_result"
    }
   ],
   "source": [
    "t1 = datetime.time(13,42,45)\n",
    "t1"
   ]
  },
  {
   "cell_type": "code",
   "execution_count": 32,
   "metadata": {
    "ExecuteTime": {
     "end_time": "2021-02-11T05:43:21.251247Z",
     "start_time": "2021-02-11T05:43:21.248250Z"
    }
   },
   "outputs": [
    {
     "data": {
      "text/plain": [
       "'13:42:45'"
      ]
     },
     "execution_count": 32,
     "metadata": {},
     "output_type": "execute_result"
    }
   ],
   "source": [
    "t1.strftime('%H:%M:%S')"
   ]
  },
  {
   "cell_type": "code",
   "execution_count": 34,
   "metadata": {
    "ExecuteTime": {
     "end_time": "2021-02-11T05:43:53.856739Z",
     "start_time": "2021-02-11T05:43:53.852751Z"
    }
   },
   "outputs": [
    {
     "data": {
      "text/plain": [
       "datetime.datetime(2021, 2, 11, 13, 43, 53, 853748)"
      ]
     },
     "execution_count": 34,
     "metadata": {},
     "output_type": "execute_result"
    }
   ],
   "source": [
    "dt2 = datetime.datetime.now()\n",
    "dt2"
   ]
  },
  {
   "cell_type": "code",
   "execution_count": 35,
   "metadata": {
    "ExecuteTime": {
     "end_time": "2021-02-11T05:44:57.737966Z",
     "start_time": "2021-02-11T05:44:57.733951Z"
    }
   },
   "outputs": [
    {
     "data": {
      "text/plain": [
       "'2021-02-11 13:43:53'"
      ]
     },
     "execution_count": 35,
     "metadata": {},
     "output_type": "execute_result"
    }
   ],
   "source": [
    "dt2.strftime('%Y-%m-%d %H:%M:%S')"
   ]
  },
  {
   "cell_type": "markdown",
   "metadata": {},
   "source": [
    "## 字符串对象转时间格式\n",
    "\n",
    "strptime 的英文全称是str parse time,含义是将字符串解析为时间"
   ]
  },
  {
   "cell_type": "code",
   "execution_count": 38,
   "metadata": {
    "ExecuteTime": {
     "end_time": "2021-02-11T05:51:02.748956Z",
     "start_time": "2021-02-11T05:51:02.744942Z"
    }
   },
   "outputs": [
    {
     "data": {
      "text/plain": [
       "datetime.datetime(2020, 10, 2, 0, 0)"
      ]
     },
     "execution_count": 38,
     "metadata": {},
     "output_type": "execute_result"
    }
   ],
   "source": [
    "s1 = '2020-10-2'\n",
    "s2 = datetime.datetime.strptime(s1,'%Y-%m-%d')\n",
    "s2"
   ]
  },
  {
   "cell_type": "markdown",
   "metadata": {},
   "source": [
    "## 时间戳转为时间对象\n",
    "\n",
    "时间戳是指格林威治时间1970年01月01日00时00分00秒(北京时间1970年01月01日08时00分00秒)起至现在的总秒数。"
   ]
  },
  {
   "cell_type": "code",
   "execution_count": 40,
   "metadata": {
    "ExecuteTime": {
     "end_time": "2021-02-11T05:53:46.175956Z",
     "start_time": "2021-02-11T05:53:46.171966Z"
    }
   },
   "outputs": [
    {
     "data": {
      "text/plain": [
       "1613022826.172964"
      ]
     },
     "execution_count": 40,
     "metadata": {},
     "output_type": "execute_result"
    }
   ],
   "source": [
    "ts1 = time.time() #获取当前时间戳\n",
    "ts1"
   ]
  },
  {
   "cell_type": "code",
   "execution_count": 43,
   "metadata": {
    "ExecuteTime": {
     "end_time": "2021-02-11T07:04:01.715169Z",
     "start_time": "2021-02-11T07:04:01.712543Z"
    }
   },
   "outputs": [],
   "source": [
    "dt1 = datetime.datetime.fromtimestamp(ts1)#将时间戳转为时间对象"
   ]
  },
  {
   "cell_type": "code",
   "execution_count": 44,
   "metadata": {
    "ExecuteTime": {
     "end_time": "2021-02-11T07:14:32.442936Z",
     "start_time": "2021-02-11T07:14:32.438947Z"
    }
   },
   "outputs": [],
   "source": [
    "dt_s = datetime.datetime(1970,1,1,8,0)"
   ]
  },
  {
   "cell_type": "code",
   "execution_count": 46,
   "metadata": {
    "ExecuteTime": {
     "end_time": "2021-02-11T07:15:03.309225Z",
     "start_time": "2021-02-11T07:15:03.306200Z"
    }
   },
   "outputs": [],
   "source": [
    "timedelta = dt1-dt_s     #将当前时间与1970年1月1日8时的时间相减，就得到时间戳"
   ]
  },
  {
   "cell_type": "code",
   "execution_count": 49,
   "metadata": {
    "ExecuteTime": {
     "end_time": "2021-02-11T07:16:01.041416Z",
     "start_time": "2021-02-11T07:16:01.037426Z"
    }
   },
   "outputs": [
    {
     "data": {
      "text/plain": [
       "1613022826.172964"
      ]
     },
     "execution_count": 49,
     "metadata": {},
     "output_type": "execute_result"
    }
   ],
   "source": [
    "timedelta_s = timedelta.total_seconds()\n",
    "timedelta_s"
   ]
  },
  {
   "cell_type": "code",
   "execution_count": 50,
   "metadata": {
    "ExecuteTime": {
     "end_time": "2021-02-11T07:16:31.844941Z",
     "start_time": "2021-02-11T07:16:31.840950Z"
    }
   },
   "outputs": [
    {
     "data": {
      "text/plain": [
       "datetime.datetime(2021, 2, 11, 13, 53, 46, 172964)"
      ]
     },
     "execution_count": 50,
     "metadata": {},
     "output_type": "execute_result"
    }
   ],
   "source": [
    "datetime.datetime.fromtimestamp(timedelta_s)"
   ]
  },
  {
   "cell_type": "markdown",
   "metadata": {},
   "source": [
    "## 时间的运算"
   ]
  },
  {
   "cell_type": "code",
   "execution_count": 51,
   "metadata": {
    "ExecuteTime": {
     "end_time": "2021-02-11T07:19:15.198957Z",
     "start_time": "2021-02-11T07:19:15.194966Z"
    }
   },
   "outputs": [
    {
     "data": {
      "text/plain": [
       "datetime.date(2021, 2, 12)"
      ]
     },
     "execution_count": 51,
     "metadata": {},
     "output_type": "execute_result"
    }
   ],
   "source": [
    "datetime.date.today()+datetime.timedelta(days =1) #向前一天"
   ]
  },
  {
   "cell_type": "code",
   "execution_count": 52,
   "metadata": {
    "ExecuteTime": {
     "end_time": "2021-02-11T07:19:55.129400Z",
     "start_time": "2021-02-11T07:19:55.125410Z"
    }
   },
   "outputs": [
    {
     "data": {
      "text/plain": [
       "datetime.date(2021, 2, 10)"
      ]
     },
     "execution_count": 52,
     "metadata": {},
     "output_type": "execute_result"
    }
   ],
   "source": [
    "datetime.date.today()-datetime.timedelta(days =1) #退后一天"
   ]
  },
  {
   "cell_type": "code",
   "execution_count": null,
   "metadata": {},
   "outputs": [],
   "source": []
  }
 ],
 "metadata": {
  "kernelspec": {
   "display_name": "Python 3",
   "language": "python",
   "name": "python3"
  },
  "language_info": {
   "codemirror_mode": {
    "name": "ipython",
    "version": 3
   },
   "file_extension": ".py",
   "mimetype": "text/x-python",
   "name": "python",
   "nbconvert_exporter": "python",
   "pygments_lexer": "ipython3",
   "version": "3.8.3"
  },
  "toc": {
   "base_numbering": 1,
   "nav_menu": {},
   "number_sections": true,
   "sideBar": true,
   "skip_h1_title": true,
   "title_cell": "目录",
   "title_sidebar": "Contents",
   "toc_cell": true,
   "toc_position": {},
   "toc_section_display": true,
   "toc_window_display": false
  },
  "varInspector": {
   "cols": {
    "lenName": 16,
    "lenType": 16,
    "lenVar": 40
   },
   "kernels_config": {
    "python": {
     "delete_cmd_postfix": "",
     "delete_cmd_prefix": "del ",
     "library": "var_list.py",
     "varRefreshCmd": "print(var_dic_list())"
    },
    "r": {
     "delete_cmd_postfix": ") ",
     "delete_cmd_prefix": "rm(",
     "library": "var_list.r",
     "varRefreshCmd": "cat(var_dic_list()) "
    }
   },
   "types_to_exclude": [
    "module",
    "function",
    "builtin_function_or_method",
    "instance",
    "_Feature"
   ],
   "window_display": false
  }
 },
 "nbformat": 4,
 "nbformat_minor": 4
}
