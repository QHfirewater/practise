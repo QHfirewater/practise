{
 "cells": [
  {
   "cell_type": "markdown",
   "metadata": {
    "toc": true
   },
   "source": [
    "<h1>目录<span class=\"tocSkip\"></span></h1>\n",
    "<div class=\"toc\"><ul class=\"toc-item\"><li><span><a href=\"#date对象构建\" data-toc-modified-id=\"date对象构建-1\"><span class=\"toc-item-num\">1&nbsp;&nbsp;</span>date对象构建</a></span></li><li><span><a href=\"#time对象构建\" data-toc-modified-id=\"time对象构建-2\"><span class=\"toc-item-num\">2&nbsp;&nbsp;</span>time对象构建</a></span></li><li><span><a href=\"#datetime对象构建\" data-toc-modified-id=\"datetime对象构建-3\"><span class=\"toc-item-num\">3&nbsp;&nbsp;</span>datetime对象构建</a></span></li><li><span><a href=\"#timedelta-对象构建\" data-toc-modified-id=\"timedelta-对象构建-4\"><span class=\"toc-item-num\">4&nbsp;&nbsp;</span>timedelta 对象构建</a></span></li></ul></div>"
   ]
  },
  {
   "cell_type": "code",
   "execution_count": 1,
   "metadata": {
    "ExecuteTime": {
     "end_time": "2021-02-10T14:18:50.065423Z",
     "start_time": "2021-02-10T14:18:50.062425Z"
    }
   },
   "outputs": [],
   "source": [
    "import datetime\n",
    "import time"
   ]
  },
  {
   "cell_type": "markdown",
   "metadata": {},
   "source": [
    "## date对象构建"
   ]
  },
  {
   "cell_type": "code",
   "execution_count": 3,
   "metadata": {
    "ExecuteTime": {
     "end_time": "2021-02-10T14:19:25.425606Z",
     "start_time": "2021-02-10T14:19:25.421617Z"
    }
   },
   "outputs": [],
   "source": [
    "d1 = datetime.date(2021,2,10)"
   ]
  },
  {
   "cell_type": "code",
   "execution_count": 4,
   "metadata": {
    "ExecuteTime": {
     "end_time": "2021-02-10T14:19:35.268049Z",
     "start_time": "2021-02-10T14:19:35.264028Z"
    }
   },
   "outputs": [
    {
     "data": {
      "text/plain": [
       "datetime.date(2021, 2, 10)"
      ]
     },
     "execution_count": 4,
     "metadata": {},
     "output_type": "execute_result"
    }
   ],
   "source": [
    "d1"
   ]
  },
  {
   "cell_type": "code",
   "execution_count": 5,
   "metadata": {
    "ExecuteTime": {
     "end_time": "2021-02-10T14:19:45.963317Z",
     "start_time": "2021-02-10T14:19:45.960326Z"
    }
   },
   "outputs": [
    {
     "name": "stdout",
     "output_type": "stream",
     "text": [
      "2021-02-10\n"
     ]
    }
   ],
   "source": [
    "print(d1)"
   ]
  },
  {
   "cell_type": "code",
   "execution_count": 6,
   "metadata": {
    "ExecuteTime": {
     "end_time": "2021-02-10T14:20:55.255031Z",
     "start_time": "2021-02-10T14:20:55.250055Z"
    }
   },
   "outputs": [
    {
     "data": {
      "text/plain": [
       "'日期所属的年份是：2021'"
      ]
     },
     "execution_count": 6,
     "metadata": {},
     "output_type": "execute_result"
    }
   ],
   "source": [
    "f'日期所属的年份是：{d1.year}'"
   ]
  },
  {
   "cell_type": "code",
   "execution_count": 7,
   "metadata": {
    "ExecuteTime": {
     "end_time": "2021-02-10T14:21:39.208571Z",
     "start_time": "2021-02-10T14:21:39.205568Z"
    }
   },
   "outputs": [
    {
     "data": {
      "text/plain": [
       "'日期所属的月份是:2'"
      ]
     },
     "execution_count": 7,
     "metadata": {},
     "output_type": "execute_result"
    }
   ],
   "source": [
    "f'日期所属的月份是:{d1.month}'"
   ]
  },
  {
   "cell_type": "code",
   "execution_count": 8,
   "metadata": {
    "ExecuteTime": {
     "end_time": "2021-02-10T14:22:20.071076Z",
     "start_time": "2021-02-10T14:22:20.067088Z"
    }
   },
   "outputs": [
    {
     "data": {
      "text/plain": [
       "'日期具体的日期号是：10'"
      ]
     },
     "execution_count": 8,
     "metadata": {},
     "output_type": "execute_result"
    }
   ],
   "source": [
    "f'日期具体的日期号是：{d1.day}'"
   ]
  },
  {
   "cell_type": "markdown",
   "metadata": {},
   "source": [
    "## time对象构建"
   ]
  },
  {
   "cell_type": "code",
   "execution_count": 11,
   "metadata": {
    "ExecuteTime": {
     "end_time": "2021-02-10T14:24:04.562570Z",
     "start_time": "2021-02-10T14:24:04.559568Z"
    }
   },
   "outputs": [],
   "source": [
    "t1 = datetime.time(20,10,1)"
   ]
  },
  {
   "cell_type": "code",
   "execution_count": 12,
   "metadata": {
    "ExecuteTime": {
     "end_time": "2021-02-10T14:24:04.765415Z",
     "start_time": "2021-02-10T14:24:04.762422Z"
    }
   },
   "outputs": [
    {
     "name": "stdout",
     "output_type": "stream",
     "text": [
      "20:10:01\n"
     ]
    }
   ],
   "source": [
    "print(t1)"
   ]
  },
  {
   "cell_type": "code",
   "execution_count": 14,
   "metadata": {
    "ExecuteTime": {
     "end_time": "2021-02-10T14:25:10.140579Z",
     "start_time": "2021-02-10T14:25:10.136565Z"
    }
   },
   "outputs": [
    {
     "data": {
      "text/plain": [
       "'time 所属的小时是：20'"
      ]
     },
     "execution_count": 14,
     "metadata": {},
     "output_type": "execute_result"
    }
   ],
   "source": [
    "f'time 所属的小时是：{t1.hour}'"
   ]
  },
  {
   "cell_type": "code",
   "execution_count": 15,
   "metadata": {
    "ExecuteTime": {
     "end_time": "2021-02-10T14:25:39.888127Z",
     "start_time": "2021-02-10T14:25:39.884165Z"
    }
   },
   "outputs": [
    {
     "data": {
      "text/plain": [
       "'time所属的分钟是：20'"
      ]
     },
     "execution_count": 15,
     "metadata": {},
     "output_type": "execute_result"
    }
   ],
   "source": [
    "f'time所属的分钟是：{t1.hour}'"
   ]
  },
  {
   "cell_type": "code",
   "execution_count": 16,
   "metadata": {
    "ExecuteTime": {
     "end_time": "2021-02-10T14:26:13.820596Z",
     "start_time": "2021-02-10T14:26:13.818198Z"
    }
   },
   "outputs": [
    {
     "data": {
      "text/plain": [
       "'time所属的秒为:1'"
      ]
     },
     "execution_count": 16,
     "metadata": {},
     "output_type": "execute_result"
    }
   ],
   "source": [
    "f'time所属的秒为:{t1.second}'"
   ]
  },
  {
   "cell_type": "markdown",
   "metadata": {},
   "source": [
    "## datetime对象构建"
   ]
  },
  {
   "cell_type": "code",
   "execution_count": 17,
   "metadata": {
    "ExecuteTime": {
     "end_time": "2021-02-10T14:27:09.820175Z",
     "start_time": "2021-02-10T14:27:09.816186Z"
    }
   },
   "outputs": [],
   "source": [
    "dt1 = datetime.datetime(2021,2,10,22,27,3)"
   ]
  },
  {
   "cell_type": "code",
   "execution_count": 18,
   "metadata": {
    "ExecuteTime": {
     "end_time": "2021-02-10T14:27:14.478189Z",
     "start_time": "2021-02-10T14:27:14.474200Z"
    }
   },
   "outputs": [
    {
     "data": {
      "text/plain": [
       "datetime.datetime(2021, 2, 10, 22, 27, 3)"
      ]
     },
     "execution_count": 18,
     "metadata": {},
     "output_type": "execute_result"
    }
   ],
   "source": [
    "dt1"
   ]
  },
  {
   "cell_type": "code",
   "execution_count": 19,
   "metadata": {
    "ExecuteTime": {
     "end_time": "2021-02-10T14:27:24.957132Z",
     "start_time": "2021-02-10T14:27:24.953142Z"
    }
   },
   "outputs": [
    {
     "data": {
      "text/plain": [
       "2021"
      ]
     },
     "execution_count": 19,
     "metadata": {},
     "output_type": "execute_result"
    }
   ],
   "source": [
    "dt1.year"
   ]
  },
  {
   "cell_type": "code",
   "execution_count": 20,
   "metadata": {
    "ExecuteTime": {
     "end_time": "2021-02-10T14:28:15.994392Z",
     "start_time": "2021-02-10T14:28:15.989406Z"
    }
   },
   "outputs": [
    {
     "data": {
      "text/plain": [
       "datetime.datetime(2021, 2, 10, 20, 10, 1)"
      ]
     },
     "execution_count": 20,
     "metadata": {},
     "output_type": "execute_result"
    }
   ],
   "source": [
    "datetime.datetime.combine(d1,t1)"
   ]
  },
  {
   "cell_type": "code",
   "execution_count": 21,
   "metadata": {
    "ExecuteTime": {
     "end_time": "2021-02-10T14:29:33.901692Z",
     "start_time": "2021-02-10T14:29:33.897703Z"
    }
   },
   "outputs": [
    {
     "data": {
      "text/plain": [
       "2"
      ]
     },
     "execution_count": 21,
     "metadata": {},
     "output_type": "execute_result"
    }
   ],
   "source": [
    "dt1.weekday()"
   ]
  },
  {
   "cell_type": "code",
   "execution_count": 22,
   "metadata": {
    "ExecuteTime": {
     "end_time": "2021-02-10T14:30:20.526023Z",
     "start_time": "2021-02-10T14:30:20.523031Z"
    }
   },
   "outputs": [],
   "source": [
    "dt2 = datetime.datetime.now()"
   ]
  },
  {
   "cell_type": "code",
   "execution_count": 23,
   "metadata": {
    "ExecuteTime": {
     "end_time": "2021-02-10T14:30:23.500712Z",
     "start_time": "2021-02-10T14:30:23.496723Z"
    }
   },
   "outputs": [
    {
     "data": {
      "text/plain": [
       "datetime.datetime(2021, 2, 10, 22, 30, 20, 524027)"
      ]
     },
     "execution_count": 23,
     "metadata": {},
     "output_type": "execute_result"
    }
   ],
   "source": [
    "dt2"
   ]
  },
  {
   "cell_type": "code",
   "execution_count": 25,
   "metadata": {
    "ExecuteTime": {
     "end_time": "2021-02-10T14:30:39.947681Z",
     "start_time": "2021-02-10T14:30:39.943689Z"
    }
   },
   "outputs": [
    {
     "data": {
      "text/plain": [
       "2"
      ]
     },
     "execution_count": 25,
     "metadata": {},
     "output_type": "execute_result"
    }
   ],
   "source": [
    "dt2.weekday()"
   ]
  },
  {
   "cell_type": "code",
   "execution_count": 26,
   "metadata": {
    "ExecuteTime": {
     "end_time": "2021-02-10T14:31:06.458804Z",
     "start_time": "2021-02-10T14:31:06.454814Z"
    }
   },
   "outputs": [
    {
     "data": {
      "text/plain": [
       "3"
      ]
     },
     "execution_count": 26,
     "metadata": {},
     "output_type": "execute_result"
    }
   ],
   "source": [
    "dt2.isoweekday()"
   ]
  },
  {
   "cell_type": "code",
   "execution_count": 27,
   "metadata": {
    "ExecuteTime": {
     "end_time": "2021-02-10T14:31:46.319635Z",
     "start_time": "2021-02-10T14:31:46.315635Z"
    }
   },
   "outputs": [
    {
     "data": {
      "text/plain": [
       "datetime.datetime(2019, 2, 10, 22, 30, 20, 524027)"
      ]
     },
     "execution_count": 27,
     "metadata": {},
     "output_type": "execute_result"
    }
   ],
   "source": [
    "dt2.replace(year = 2019)"
   ]
  },
  {
   "cell_type": "markdown",
   "metadata": {},
   "source": [
    "## timedelta 对象构建\n",
    "\n",
    "timedelta对象表示两个date或time 或者datetime的时间间隔"
   ]
  },
  {
   "cell_type": "code",
   "execution_count": 31,
   "metadata": {
    "ExecuteTime": {
     "end_time": "2021-02-10T14:38:45.370775Z",
     "start_time": "2021-02-10T14:38:45.367651Z"
    }
   },
   "outputs": [],
   "source": [
    "delta = datetime.timedelta(weeks = 3,days= 10,hours = 6,minutes =50,\n",
    "                           seconds = 30,microseconds = 1000,milliseconds =100 )"
   ]
  },
  {
   "cell_type": "code",
   "execution_count": 32,
   "metadata": {
    "ExecuteTime": {
     "end_time": "2021-02-10T14:38:46.538401Z",
     "start_time": "2021-02-10T14:38:46.534412Z"
    }
   },
   "outputs": [
    {
     "data": {
      "text/plain": [
       "datetime.timedelta(days=31, seconds=24630, microseconds=101000)"
      ]
     },
     "execution_count": 32,
     "metadata": {},
     "output_type": "execute_result"
    }
   ],
   "source": [
    "delta"
   ]
  },
  {
   "cell_type": "code",
   "execution_count": null,
   "metadata": {},
   "outputs": [],
   "source": []
  }
 ],
 "metadata": {
  "kernelspec": {
   "display_name": "Python 3",
   "language": "python",
   "name": "python3"
  },
  "language_info": {
   "codemirror_mode": {
    "name": "ipython",
    "version": 3
   },
   "file_extension": ".py",
   "mimetype": "text/x-python",
   "name": "python",
   "nbconvert_exporter": "python",
   "pygments_lexer": "ipython3",
   "version": "3.8.3"
  },
  "toc": {
   "base_numbering": 1,
   "nav_menu": {},
   "number_sections": true,
   "sideBar": true,
   "skip_h1_title": true,
   "title_cell": "目录",
   "title_sidebar": "Contents",
   "toc_cell": true,
   "toc_position": {},
   "toc_section_display": true,
   "toc_window_display": false
  },
  "varInspector": {
   "cols": {
    "lenName": 16,
    "lenType": 16,
    "lenVar": 40
   },
   "kernels_config": {
    "python": {
     "delete_cmd_postfix": "",
     "delete_cmd_prefix": "del ",
     "library": "var_list.py",
     "varRefreshCmd": "print(var_dic_list())"
    },
    "r": {
     "delete_cmd_postfix": ") ",
     "delete_cmd_prefix": "rm(",
     "library": "var_list.r",
     "varRefreshCmd": "cat(var_dic_list()) "
    }
   },
   "types_to_exclude": [
    "module",
    "function",
    "builtin_function_or_method",
    "instance",
    "_Feature"
   ],
   "window_display": false
  }
 },
 "nbformat": 4,
 "nbformat_minor": 4
}
