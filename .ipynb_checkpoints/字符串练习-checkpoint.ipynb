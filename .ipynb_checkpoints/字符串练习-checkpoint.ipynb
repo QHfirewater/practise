{
 "cells": [
  {
   "cell_type": "markdown",
   "metadata": {
    "toc": true
   },
   "source": [
    "<h1>目录<span class=\"tocSkip\"></span></h1>\n",
    "<div class=\"toc\"><ul class=\"toc-item\"></ul></div>"
   ]
  },
  {
   "cell_type": "code",
   "execution_count": 1,
   "metadata": {
    "ExecuteTime": {
     "end_time": "2021-02-10T07:17:06.749258Z",
     "start_time": "2021-02-10T07:17:06.741278Z"
    }
   },
   "outputs": [
    {
     "data": {
      "text/plain": [
       "' \\n使用三重字符串可以跨越多行\\n\\n'"
      ]
     },
     "execution_count": 1,
     "metadata": {},
     "output_type": "execute_result"
    }
   ],
   "source": [
    "\"\"\" \n",
    "使用三重字符串可以跨越多行\n",
    "\"\"\""
   ]
  },
  {
   "cell_type": "code",
   "execution_count": 2,
   "metadata": {
    "ExecuteTime": {
     "end_time": "2021-02-10T07:18:14.145387Z",
     "start_time": "2021-02-10T07:18:14.142675Z"
    }
   },
   "outputs": [],
   "source": [
    "s2 = 'python 数据之道'"
   ]
  },
  {
   "cell_type": "code",
   "execution_count": 3,
   "metadata": {
    "ExecuteTime": {
     "end_time": "2021-02-10T07:18:28.228413Z",
     "start_time": "2021-02-10T07:18:28.224424Z"
    }
   },
   "outputs": [
    {
     "data": {
      "text/plain": [
       "'p'"
      ]
     },
     "execution_count": 3,
     "metadata": {},
     "output_type": "execute_result"
    }
   ],
   "source": [
    "s2[0]"
   ]
  },
  {
   "cell_type": "code",
   "execution_count": 4,
   "metadata": {
    "ExecuteTime": {
     "end_time": "2021-02-10T07:18:41.223305Z",
     "start_time": "2021-02-10T07:18:41.219316Z"
    }
   },
   "outputs": [
    {
     "data": {
      "text/plain": [
       "'pyth'"
      ]
     },
     "execution_count": 4,
     "metadata": {},
     "output_type": "execute_result"
    }
   ],
   "source": [
    "s2[0:4]"
   ]
  },
  {
   "cell_type": "code",
   "execution_count": 1,
   "metadata": {
    "ExecuteTime": {
     "end_time": "2021-02-10T09:11:21.527662Z",
     "start_time": "2021-02-10T09:11:21.524661Z"
    }
   },
   "outputs": [],
   "source": [
    "name = 'lemon'\n",
    "age = 18"
   ]
  },
  {
   "cell_type": "code",
   "execution_count": 2,
   "metadata": {
    "ExecuteTime": {
     "end_time": "2021-02-10T09:12:15.729070Z",
     "start_time": "2021-02-10T09:12:15.722088Z"
    }
   },
   "outputs": [
    {
     "data": {
      "text/plain": [
       "'my name is lemon,age is 18'"
      ]
     },
     "execution_count": 2,
     "metadata": {},
     "output_type": "execute_result"
    }
   ],
   "source": [
    "'my name is {0},age is {1}'.format(name,age)"
   ]
  },
  {
   "cell_type": "code",
   "execution_count": 3,
   "metadata": {
    "ExecuteTime": {
     "end_time": "2021-02-10T09:13:21.370569Z",
     "start_time": "2021-02-10T09:13:21.356351Z"
    }
   },
   "outputs": [
    {
     "data": {
      "text/plain": [
       "'my name is lemon,age is 18'"
      ]
     },
     "execution_count": 3,
     "metadata": {},
     "output_type": "execute_result"
    }
   ],
   "source": [
    "f'my name is {name},age is {age}'"
   ]
  },
  {
   "cell_type": "code",
   "execution_count": 4,
   "metadata": {
    "ExecuteTime": {
     "end_time": "2021-02-10T09:14:46.679412Z",
     "start_time": "2021-02-10T09:14:46.677395Z"
    }
   },
   "outputs": [],
   "source": [
    "n1 = 3.1415926\n",
    "n2 = 31415.926\n",
    "n3 = 0.31415\n",
    "n4 = 21"
   ]
  },
  {
   "cell_type": "code",
   "execution_count": 8,
   "metadata": {
    "ExecuteTime": {
     "end_time": "2021-02-10T09:16:22.644894Z",
     "start_time": "2021-02-10T09:16:22.640904Z"
    }
   },
   "outputs": [
    {
     "data": {
      "text/plain": [
       "'保留两位小数：3.14'"
      ]
     },
     "execution_count": 8,
     "metadata": {},
     "output_type": "execute_result"
    }
   ],
   "source": [
    "'保留两位小数：%.2f'%n1"
   ]
  },
  {
   "cell_type": "code",
   "execution_count": 9,
   "metadata": {
    "ExecuteTime": {
     "end_time": "2021-02-10T09:17:16.807457Z",
     "start_time": "2021-02-10T09:17:16.803469Z"
    }
   },
   "outputs": [
    {
     "data": {
      "text/plain": [
       "'保留两位小数：3.14'"
      ]
     },
     "execution_count": 9,
     "metadata": {},
     "output_type": "execute_result"
    }
   ],
   "source": [
    "'保留两位小数：{:.2f}'.format(n1)"
   ]
  },
  {
   "cell_type": "code",
   "execution_count": 10,
   "metadata": {
    "ExecuteTime": {
     "end_time": "2021-02-10T09:18:40.656678Z",
     "start_time": "2021-02-10T09:18:40.652690Z"
    }
   },
   "outputs": [
    {
     "data": {
      "text/plain": [
       "'保留两位小数:3.14'"
      ]
     },
     "execution_count": 10,
     "metadata": {},
     "output_type": "execute_result"
    }
   ],
   "source": [
    "f'保留两位小数:{n1:.2f}'"
   ]
  },
  {
   "cell_type": "code",
   "execution_count": 11,
   "metadata": {
    "ExecuteTime": {
     "end_time": "2021-02-10T09:20:34.147481Z",
     "start_time": "2021-02-10T09:20:34.143492Z"
    }
   },
   "outputs": [
    {
     "data": {
      "text/plain": [
       "'百分比格式：31.41%'"
      ]
     },
     "execution_count": 11,
     "metadata": {},
     "output_type": "execute_result"
    }
   ],
   "source": [
    "'百分比格式：{:.2%}'.format(n3)"
   ]
  },
  {
   "cell_type": "code",
   "execution_count": 12,
   "metadata": {
    "ExecuteTime": {
     "end_time": "2021-02-10T09:22:01.567368Z",
     "start_time": "2021-02-10T09:22:01.563379Z"
    }
   },
   "outputs": [
    {
     "data": {
      "text/plain": [
       "'既有千分位分隔符，又有小数位数：31,415.93'"
      ]
     },
     "execution_count": 12,
     "metadata": {},
     "output_type": "execute_result"
    }
   ],
   "source": [
    "'既有千分位分隔符，又有小数位数：{:,.2f}'.format(n2)"
   ]
  },
  {
   "cell_type": "code",
   "execution_count": 13,
   "metadata": {
    "ExecuteTime": {
     "end_time": "2021-02-10T09:35:01.138437Z",
     "start_time": "2021-02-10T09:35:01.134448Z"
    }
   },
   "outputs": [
    {
     "data": {
      "text/plain": [
       "'      21'"
      ]
     },
     "execution_count": 13,
     "metadata": {},
     "output_type": "execute_result"
    }
   ],
   "source": [
    "'{:>8}'.format(n4)#右端对齐"
   ]
  },
  {
   "cell_type": "code",
   "execution_count": 14,
   "metadata": {
    "ExecuteTime": {
     "end_time": "2021-02-10T09:35:21.560693Z",
     "start_time": "2021-02-10T09:35:21.556705Z"
    }
   },
   "outputs": [
    {
     "data": {
      "text/plain": [
       "'21      '"
      ]
     },
     "execution_count": 14,
     "metadata": {},
     "output_type": "execute_result"
    }
   ],
   "source": [
    "'{:<8}'.format(n4)#左端对齐"
   ]
  },
  {
   "cell_type": "code",
   "execution_count": 15,
   "metadata": {
    "ExecuteTime": {
     "end_time": "2021-02-10T09:35:40.678196Z",
     "start_time": "2021-02-10T09:35:40.674175Z"
    }
   },
   "outputs": [
    {
     "data": {
      "text/plain": [
       "'   21   '"
      ]
     },
     "execution_count": 15,
     "metadata": {},
     "output_type": "execute_result"
    }
   ],
   "source": [
    "'{:^8}'.format(n4)#居中对齐"
   ]
  },
  {
   "cell_type": "code",
   "execution_count": 16,
   "metadata": {
    "ExecuteTime": {
     "end_time": "2021-02-10T09:37:53.936512Z",
     "start_time": "2021-02-10T09:37:53.932523Z"
    }
   },
   "outputs": [
    {
     "data": {
      "text/plain": [
       "'左边补零：0021'"
      ]
     },
     "execution_count": 16,
     "metadata": {},
     "output_type": "execute_result"
    }
   ],
   "source": [
    "'左边补零：{:0>4}'.format(n4)"
   ]
  },
  {
   "cell_type": "code",
   "execution_count": 17,
   "metadata": {
    "ExecuteTime": {
     "end_time": "2021-02-10T09:38:58.646662Z",
     "start_time": "2021-02-10T09:38:58.642673Z"
    }
   },
   "outputs": [
    {
     "data": {
      "text/plain": [
       "'右边补x：21xxx'"
      ]
     },
     "execution_count": 17,
     "metadata": {},
     "output_type": "execute_result"
    }
   ],
   "source": [
    "'右边补x：{:x<5}'.format(n4)"
   ]
  },
  {
   "cell_type": "code",
   "execution_count": 18,
   "metadata": {
    "ExecuteTime": {
     "end_time": "2021-02-10T09:39:56.398497Z",
     "start_time": "2021-02-10T09:39:56.394530Z"
    }
   },
   "outputs": [],
   "source": [
    "n1 = 3.1415\n",
    "n2 = -3.1415"
   ]
  },
  {
   "cell_type": "code",
   "execution_count": 20,
   "metadata": {
    "ExecuteTime": {
     "end_time": "2021-02-10T09:41:01.317351Z",
     "start_time": "2021-02-10T09:41:01.312371Z"
    }
   },
   "outputs": [
    {
     "data": {
      "text/plain": [
       "'+3.14'"
      ]
     },
     "execution_count": 20,
     "metadata": {},
     "output_type": "execute_result"
    }
   ],
   "source": [
    "'{:+.2f}'.format(n1) #正数前面加正号"
   ]
  },
  {
   "cell_type": "code",
   "execution_count": 22,
   "metadata": {
    "ExecuteTime": {
     "end_time": "2021-02-10T09:42:25.959334Z",
     "start_time": "2021-02-10T09:42:25.955345Z"
    }
   },
   "outputs": [
    {
     "data": {
      "text/plain": [
       "'-3.14'"
      ]
     },
     "execution_count": 22,
     "metadata": {},
     "output_type": "execute_result"
    }
   ],
   "source": [
    "\"{:.2f}\".format(n2) #负数前面加负号"
   ]
  },
  {
   "cell_type": "code",
   "execution_count": 25,
   "metadata": {
    "ExecuteTime": {
     "end_time": "2021-02-10T10:24:58.174478Z",
     "start_time": "2021-02-10T10:24:58.171485Z"
    }
   },
   "outputs": [],
   "source": [
    "s1 = 'hello dear'\n",
    "s2 = ' my friend'"
   ]
  },
  {
   "cell_type": "code",
   "execution_count": 26,
   "metadata": {
    "ExecuteTime": {
     "end_time": "2021-02-10T10:24:58.578002Z",
     "start_time": "2021-02-10T10:24:58.574012Z"
    }
   },
   "outputs": [
    {
     "data": {
      "text/plain": [
       "'hello dear my friend'"
      ]
     },
     "execution_count": 26,
     "metadata": {},
     "output_type": "execute_result"
    }
   ],
   "source": [
    "s1 + s2"
   ]
  },
  {
   "cell_type": "code",
   "execution_count": 27,
   "metadata": {
    "ExecuteTime": {
     "end_time": "2021-02-10T10:44:17.845895Z",
     "start_time": "2021-02-10T10:44:17.840908Z"
    }
   },
   "outputs": [
    {
     "data": {
      "text/plain": [
       "'hello dearhello dear'"
      ]
     },
     "execution_count": 27,
     "metadata": {},
     "output_type": "execute_result"
    }
   ],
   "source": [
    "s1 *2"
   ]
  },
  {
   "cell_type": "code",
   "execution_count": 29,
   "metadata": {
    "ExecuteTime": {
     "end_time": "2021-02-10T10:44:48.556013Z",
     "start_time": "2021-02-10T10:44:48.552024Z"
    }
   },
   "outputs": [],
   "source": [
    "s = 'hello, welcome to PyDataLab'"
   ]
  },
  {
   "cell_type": "code",
   "execution_count": 30,
   "metadata": {
    "ExecuteTime": {
     "end_time": "2021-02-10T10:45:24.474175Z",
     "start_time": "2021-02-10T10:45:24.469189Z"
    }
   },
   "outputs": [
    {
     "data": {
      "text/plain": [
       "'Hello, Welcome To Pydatalab'"
      ]
     },
     "execution_count": 30,
     "metadata": {},
     "output_type": "execute_result"
    }
   ],
   "source": [
    "s.title() #每个单词的首字母大写"
   ]
  },
  {
   "cell_type": "code",
   "execution_count": 34,
   "metadata": {
    "ExecuteTime": {
     "end_time": "2021-02-10T10:46:40.250855Z",
     "start_time": "2021-02-10T10:46:40.246866Z"
    }
   },
   "outputs": [
    {
     "data": {
      "text/plain": [
       "'Hello, welcome to pydatalab'"
      ]
     },
     "execution_count": 34,
     "metadata": {},
     "output_type": "execute_result"
    }
   ],
   "source": [
    "s.capitalize() #段落的首字母大写"
   ]
  },
  {
   "cell_type": "code",
   "execution_count": 37,
   "metadata": {
    "ExecuteTime": {
     "end_time": "2021-02-10T10:47:22.231967Z",
     "start_time": "2021-02-10T10:47:22.228976Z"
    }
   },
   "outputs": [
    {
     "data": {
      "text/plain": [
       "'hello, welcome to pydatalab'"
      ]
     },
     "execution_count": 37,
     "metadata": {},
     "output_type": "execute_result"
    }
   ],
   "source": [
    "s.lower()#所有字母小写"
   ]
  },
  {
   "cell_type": "code",
   "execution_count": 40,
   "metadata": {
    "ExecuteTime": {
     "end_time": "2021-02-10T10:47:57.805022Z",
     "start_time": "2021-02-10T10:47:57.801032Z"
    }
   },
   "outputs": [
    {
     "data": {
      "text/plain": [
       "'HELLO, WELCOME TO PYDATALAB'"
      ]
     },
     "execution_count": 40,
     "metadata": {},
     "output_type": "execute_result"
    }
   ],
   "source": [
    "s.upper() #所有字母大写"
   ]
  },
  {
   "cell_type": "code",
   "execution_count": 41,
   "metadata": {
    "ExecuteTime": {
     "end_time": "2021-02-10T10:48:17.038693Z",
     "start_time": "2021-02-10T10:48:17.034704Z"
    }
   },
   "outputs": [
    {
     "data": {
      "text/plain": [
       "'HELLO, WELCOME TO pYdATAlAB'"
      ]
     },
     "execution_count": 41,
     "metadata": {},
     "output_type": "execute_result"
    }
   ],
   "source": [
    "s.swapcase()#大写转小写，小写转大写"
   ]
  },
  {
   "cell_type": "code",
   "execution_count": 44,
   "metadata": {
    "ExecuteTime": {
     "end_time": "2021-02-10T10:49:59.498280Z",
     "start_time": "2021-02-10T10:49:59.494291Z"
    }
   },
   "outputs": [
    {
     "name": "stdout",
     "output_type": "stream",
     "text": [
      "hello \n",
      "world\n"
     ]
    }
   ],
   "source": [
    "print('hello \\nworld')#\\n为换行符"
   ]
  },
  {
   "cell_type": "code",
   "execution_count": 46,
   "metadata": {
    "ExecuteTime": {
     "end_time": "2021-02-10T10:50:49.831890Z",
     "start_time": "2021-02-10T10:50:49.828897Z"
    }
   },
   "outputs": [
    {
     "name": "stdout",
     "output_type": "stream",
     "text": [
      "hello \tworld\n"
     ]
    }
   ],
   "source": [
    "print('hello \\tworld')#\\t为制表符"
   ]
  },
  {
   "cell_type": "code",
   "execution_count": 47,
   "metadata": {
    "ExecuteTime": {
     "end_time": "2021-02-10T10:51:20.574838Z",
     "start_time": "2021-02-10T10:51:20.571844Z"
    }
   },
   "outputs": [
    {
     "data": {
      "text/plain": [
       "'hello, welcome to PyDataLab'"
      ]
     },
     "execution_count": 47,
     "metadata": {},
     "output_type": "execute_result"
    }
   ],
   "source": [
    "s"
   ]
  },
  {
   "cell_type": "code",
   "execution_count": 48,
   "metadata": {
    "ExecuteTime": {
     "end_time": "2021-02-10T10:51:26.580297Z",
     "start_time": "2021-02-10T10:51:26.576333Z"
    }
   },
   "outputs": [
    {
     "data": {
      "text/plain": [
       "['hello,', 'welcome', 'to', 'PyDataLab']"
      ]
     },
     "execution_count": 48,
     "metadata": {},
     "output_type": "execute_result"
    }
   ],
   "source": [
    "s.split()  #以空格为分割点分割"
   ]
  },
  {
   "cell_type": "code",
   "execution_count": 49,
   "metadata": {
    "ExecuteTime": {
     "end_time": "2021-02-10T10:51:58.702071Z",
     "start_time": "2021-02-10T10:51:58.698083Z"
    }
   },
   "outputs": [
    {
     "data": {
      "text/plain": [
       "['h', 'llo, w', 'lcom', ' to PyDataLab']"
      ]
     },
     "execution_count": 49,
     "metadata": {},
     "output_type": "execute_result"
    }
   ],
   "source": [
    "s.split('e') #以‘e’为分割点进行分割"
   ]
  },
  {
   "cell_type": "code",
   "execution_count": 50,
   "metadata": {
    "ExecuteTime": {
     "end_time": "2021-02-10T10:52:23.196169Z",
     "start_time": "2021-02-10T10:52:23.192181Z"
    }
   },
   "outputs": [
    {
     "data": {
      "text/plain": [
       "['hello, welcom', ' to PyDataLab']"
      ]
     },
     "execution_count": 50,
     "metadata": {},
     "output_type": "execute_result"
    }
   ],
   "source": [
    "s.rsplit('e',1)#以‘e’为分割点，从右边分割一次"
   ]
  },
  {
   "cell_type": "code",
   "execution_count": 55,
   "metadata": {
    "ExecuteTime": {
     "end_time": "2021-02-10T10:57:40.788596Z",
     "start_time": "2021-02-10T10:57:40.784606Z"
    }
   },
   "outputs": [
    {
     "data": {
      "text/plain": [
       "('h', 'e', 'llo, welcome to PyDataLab')"
      ]
     },
     "execution_count": 55,
     "metadata": {},
     "output_type": "execute_result"
    }
   ],
   "source": [
    "s.partition('e',) #以‘e’为分割点，返回一个元祖"
   ]
  },
  {
   "cell_type": "code",
   "execution_count": 56,
   "metadata": {
    "ExecuteTime": {
     "end_time": "2021-02-10T10:57:44.435834Z",
     "start_time": "2021-02-10T10:57:44.431845Z"
    }
   },
   "outputs": [
    {
     "data": {
      "text/plain": [
       "('hello, welcom', 'e', ' to PyDataLab')"
      ]
     },
     "execution_count": 56,
     "metadata": {},
     "output_type": "execute_result"
    }
   ],
   "source": [
    "s.rpartition('e')#以‘e’为分割点，从右边开始分割，返回一个元祖"
   ]
  },
  {
   "cell_type": "code",
   "execution_count": 57,
   "metadata": {
    "ExecuteTime": {
     "end_time": "2021-02-10T10:58:53.901572Z",
     "start_time": "2021-02-10T10:58:53.898580Z"
    }
   },
   "outputs": [],
   "source": [
    "s = '  hello, world  '"
   ]
  },
  {
   "cell_type": "code",
   "execution_count": 58,
   "metadata": {
    "ExecuteTime": {
     "end_time": "2021-02-10T10:59:01.966101Z",
     "start_time": "2021-02-10T10:59:01.962111Z"
    }
   },
   "outputs": [
    {
     "data": {
      "text/plain": [
       "'hello, world'"
      ]
     },
     "execution_count": 58,
     "metadata": {},
     "output_type": "execute_result"
    }
   ],
   "source": [
    "s.strip()#去掉左右两边的空格"
   ]
  },
  {
   "cell_type": "code",
   "execution_count": 61,
   "metadata": {
    "ExecuteTime": {
     "end_time": "2021-02-10T12:06:00.097037Z",
     "start_time": "2021-02-10T12:06:00.093072Z"
    }
   },
   "outputs": [
    {
     "data": {
      "text/plain": [
       "'  hello, world'"
      ]
     },
     "execution_count": 61,
     "metadata": {},
     "output_type": "execute_result"
    }
   ],
   "source": [
    "s.rstrip()#去掉右边的空格"
   ]
  },
  {
   "cell_type": "code",
   "execution_count": 63,
   "metadata": {
    "ExecuteTime": {
     "end_time": "2021-02-10T12:06:40.905781Z",
     "start_time": "2021-02-10T12:06:40.901793Z"
    }
   },
   "outputs": [
    {
     "data": {
      "text/plain": [
       "'hello, world  '"
      ]
     },
     "execution_count": 63,
     "metadata": {},
     "output_type": "execute_result"
    }
   ],
   "source": [
    "s.lstrip()#去掉左边的空格"
   ]
  },
  {
   "cell_type": "code",
   "execution_count": 67,
   "metadata": {
    "ExecuteTime": {
     "end_time": "2021-02-10T12:08:33.195752Z",
     "start_time": "2021-02-10T12:08:33.193529Z"
    }
   },
   "outputs": [],
   "source": [
    "s = '欢迎来到python世界'"
   ]
  },
  {
   "cell_type": "code",
   "execution_count": 68,
   "metadata": {
    "ExecuteTime": {
     "end_time": "2021-02-10T12:08:33.952012Z",
     "start_time": "2021-02-10T12:08:33.948021Z"
    }
   },
   "outputs": [
    {
     "data": {
      "text/plain": [
       "b'\\xe6\\xac\\xa2\\xe8\\xbf\\x8e\\xe6\\x9d\\xa5\\xe5\\x88\\xb0python\\xe4\\xb8\\x96\\xe7\\x95\\x8c'"
      ]
     },
     "execution_count": 68,
     "metadata": {},
     "output_type": "execute_result"
    }
   ],
   "source": [
    "s2 = s.encode(encoding = 'utf-8')\n",
    "s2"
   ]
  },
  {
   "cell_type": "markdown",
   "metadata": {},
   "source": [
    "isdigit():判断字符串是否全部为数字\n",
    "\n",
    "isalpha():判断字符串是否全为字符\n",
    "\n",
    "isspace():判断字符串是否由一个或多个空格组成\n",
    "\n",
    "isalnum():判断字符串是够由数字和字符组成\n",
    "\n",
    "isupper():判断字符串是够由大写字母构成\n",
    "\n",
    "islower():判断字符串是否由小写字母构成\n",
    "\n",
    "isinstance():判断是不是某种数据类型"
   ]
  },
  {
   "cell_type": "markdown",
   "metadata": {},
   "source": [
    "type可选类型为：int，float，bool，complex，str，bytes，unicode，list，dict，set，tuple"
   ]
  },
  {
   "cell_type": "code",
   "execution_count": 69,
   "metadata": {
    "ExecuteTime": {
     "end_time": "2021-02-10T12:18:39.813842Z",
     "start_time": "2021-02-10T12:18:39.809851Z"
    }
   },
   "outputs": [
    {
     "data": {
      "text/plain": [
       "'欢迎来到python世界'"
      ]
     },
     "execution_count": 69,
     "metadata": {},
     "output_type": "execute_result"
    }
   ],
   "source": [
    "s"
   ]
  },
  {
   "cell_type": "code",
   "execution_count": 70,
   "metadata": {
    "ExecuteTime": {
     "end_time": "2021-02-10T12:19:09.379724Z",
     "start_time": "2021-02-10T12:19:09.374797Z"
    }
   },
   "outputs": [
    {
     "data": {
      "text/plain": [
       "True"
      ]
     },
     "execution_count": 70,
     "metadata": {},
     "output_type": "execute_result"
    }
   ],
   "source": [
    "isinstance(s,str)"
   ]
  },
  {
   "cell_type": "code",
   "execution_count": 71,
   "metadata": {
    "ExecuteTime": {
     "end_time": "2021-02-10T12:19:25.187627Z",
     "start_time": "2021-02-10T12:19:25.183637Z"
    }
   },
   "outputs": [
    {
     "data": {
      "text/plain": [
       "True"
      ]
     },
     "execution_count": 71,
     "metadata": {},
     "output_type": "execute_result"
    }
   ],
   "source": [
    "isinstance(s,(float,str))"
   ]
  },
  {
   "cell_type": "code",
   "execution_count": 72,
   "metadata": {
    "ExecuteTime": {
     "end_time": "2021-02-10T12:20:14.267464Z",
     "start_time": "2021-02-10T12:20:14.263443Z"
    }
   },
   "outputs": [],
   "source": [
    "s = 'hello word'"
   ]
  },
  {
   "cell_type": "code",
   "execution_count": 75,
   "metadata": {
    "ExecuteTime": {
     "end_time": "2021-02-10T12:20:59.086523Z",
     "start_time": "2021-02-10T12:20:59.082535Z"
    }
   },
   "outputs": [
    {
     "data": {
      "text/plain": [
       "2"
      ]
     },
     "execution_count": 75,
     "metadata": {},
     "output_type": "execute_result"
    }
   ],
   "source": [
    "s.count('l')#统计字符中‘l’的个数"
   ]
  },
  {
   "cell_type": "code",
   "execution_count": 77,
   "metadata": {
    "ExecuteTime": {
     "end_time": "2021-02-10T12:21:23.127410Z",
     "start_time": "2021-02-10T12:21:23.123422Z"
    }
   },
   "outputs": [
    {
     "data": {
      "text/plain": [
       "10"
      ]
     },
     "execution_count": 77,
     "metadata": {},
     "output_type": "execute_result"
    }
   ],
   "source": [
    "len(s)#统计字符串长度"
   ]
  },
  {
   "cell_type": "code",
   "execution_count": 79,
   "metadata": {
    "ExecuteTime": {
     "end_time": "2021-02-10T12:22:12.232841Z",
     "start_time": "2021-02-10T12:22:12.228852Z"
    }
   },
   "outputs": [
    {
     "data": {
      "text/plain": [
       "'heLLo word'"
      ]
     },
     "execution_count": 79,
     "metadata": {},
     "output_type": "execute_result"
    }
   ],
   "source": [
    "s.replace('l','L',2) #将小写的l,替换为大写的L两次"
   ]
  },
  {
   "cell_type": "code",
   "execution_count": 82,
   "metadata": {
    "ExecuteTime": {
     "end_time": "2021-02-10T12:22:56.431667Z",
     "start_time": "2021-02-10T12:22:56.427679Z"
    }
   },
   "outputs": [
    {
     "data": {
      "text/plain": [
       "True"
      ]
     },
     "execution_count": 82,
     "metadata": {},
     "output_type": "execute_result"
    }
   ],
   "source": [
    "s.startswith('h') #判断是否是‘h’开头"
   ]
  },
  {
   "cell_type": "code",
   "execution_count": 83,
   "metadata": {
    "ExecuteTime": {
     "end_time": "2021-02-10T12:24:00.262824Z",
     "start_time": "2021-02-10T12:24:00.258837Z"
    }
   },
   "outputs": [
    {
     "data": {
      "text/plain": [
       "True"
      ]
     },
     "execution_count": 83,
     "metadata": {},
     "output_type": "execute_result"
    }
   ],
   "source": [
    "s.endswith('d')#判断是够以'd’结尾"
   ]
  },
  {
   "cell_type": "code",
   "execution_count": 84,
   "metadata": {
    "ExecuteTime": {
     "end_time": "2021-02-10T12:25:26.714016Z",
     "start_time": "2021-02-10T12:25:26.710027Z"
    }
   },
   "outputs": [
    {
     "data": {
      "text/plain": [
       "True"
      ]
     },
     "execution_count": 84,
     "metadata": {},
     "output_type": "execute_result"
    }
   ],
   "source": [
    "'二十'.isnumeric()"
   ]
  },
  {
   "cell_type": "code",
   "execution_count": null,
   "metadata": {},
   "outputs": [],
   "source": []
  }
 ],
 "metadata": {
  "kernelspec": {
   "display_name": "Python 3",
   "language": "python",
   "name": "python3"
  },
  "language_info": {
   "codemirror_mode": {
    "name": "ipython",
    "version": 3
   },
   "file_extension": ".py",
   "mimetype": "text/x-python",
   "name": "python",
   "nbconvert_exporter": "python",
   "pygments_lexer": "ipython3",
   "version": "3.8.3"
  },
  "toc": {
   "base_numbering": 1,
   "nav_menu": {},
   "number_sections": true,
   "sideBar": true,
   "skip_h1_title": true,
   "title_cell": "目录",
   "title_sidebar": "Contents",
   "toc_cell": true,
   "toc_position": {},
   "toc_section_display": true,
   "toc_window_display": false
  },
  "varInspector": {
   "cols": {
    "lenName": 16,
    "lenType": 16,
    "lenVar": 40
   },
   "kernels_config": {
    "python": {
     "delete_cmd_postfix": "",
     "delete_cmd_prefix": "del ",
     "library": "var_list.py",
     "varRefreshCmd": "print(var_dic_list())"
    },
    "r": {
     "delete_cmd_postfix": ") ",
     "delete_cmd_prefix": "rm(",
     "library": "var_list.r",
     "varRefreshCmd": "cat(var_dic_list()) "
    }
   },
   "types_to_exclude": [
    "module",
    "function",
    "builtin_function_or_method",
    "instance",
    "_Feature"
   ],
   "window_display": false
  }
 },
 "nbformat": 4,
 "nbformat_minor": 4
}
