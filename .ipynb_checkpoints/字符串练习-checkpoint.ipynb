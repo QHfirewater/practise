{
 "cells": [
  {
   "cell_type": "markdown",
   "metadata": {
    "toc": true
   },
   "source": [
    "<h1>目录<span class=\"tocSkip\"></span></h1>\n",
    "<div class=\"toc\"><ul class=\"toc-item\"></ul></div>"
   ]
  },
  {
   "cell_type": "code",
   "execution_count": 1,
   "metadata": {
    "ExecuteTime": {
     "end_time": "2021-02-10T07:17:06.749258Z",
     "start_time": "2021-02-10T07:17:06.741278Z"
    }
   },
   "outputs": [
    {
     "data": {
      "text/plain": [
       "' \\n使用三重字符串可以跨越多行\\n\\n'"
      ]
     },
     "execution_count": 1,
     "metadata": {},
     "output_type": "execute_result"
    }
   ],
   "source": [
    "\"\"\" \n",
    "使用三重字符串可以跨越多行\n",
    "\n",
    "\"\"\""
   ]
  },
  {
   "cell_type": "code",
   "execution_count": 2,
   "metadata": {
    "ExecuteTime": {
     "end_time": "2021-02-10T07:18:14.145387Z",
     "start_time": "2021-02-10T07:18:14.142675Z"
    }
   },
   "outputs": [],
   "source": [
    "s2 = 'python 数据之道'"
   ]
  },
  {
   "cell_type": "code",
   "execution_count": 3,
   "metadata": {
    "ExecuteTime": {
     "end_time": "2021-02-10T07:18:28.228413Z",
     "start_time": "2021-02-10T07:18:28.224424Z"
    }
   },
   "outputs": [
    {
     "data": {
      "text/plain": [
       "'p'"
      ]
     },
     "execution_count": 3,
     "metadata": {},
     "output_type": "execute_result"
    }
   ],
   "source": [
    "s2[0]"
   ]
  },
  {
   "cell_type": "code",
   "execution_count": 4,
   "metadata": {
    "ExecuteTime": {
     "end_time": "2021-02-10T07:18:41.223305Z",
     "start_time": "2021-02-10T07:18:41.219316Z"
    }
   },
   "outputs": [
    {
     "data": {
      "text/plain": [
       "'pyth'"
      ]
     },
     "execution_count": 4,
     "metadata": {},
     "output_type": "execute_result"
    }
   ],
   "source": [
    "s2[0:4]"
   ]
  },
  {
   "cell_type": "code",
   "execution_count": 1,
   "metadata": {
    "ExecuteTime": {
     "end_time": "2021-02-10T09:11:21.527662Z",
     "start_time": "2021-02-10T09:11:21.524661Z"
    }
   },
   "outputs": [],
   "source": [
    "name = 'lemon'\n",
    "age = 18"
   ]
  },
  {
   "cell_type": "code",
   "execution_count": 2,
   "metadata": {
    "ExecuteTime": {
     "end_time": "2021-02-10T09:12:15.729070Z",
     "start_time": "2021-02-10T09:12:15.722088Z"
    }
   },
   "outputs": [
    {
     "data": {
      "text/plain": [
       "'my name is lemon,age is 18'"
      ]
     },
     "execution_count": 2,
     "metadata": {},
     "output_type": "execute_result"
    }
   ],
   "source": [
    "'my name is {0},age is {1}'.format(name,age)"
   ]
  },
  {
   "cell_type": "code",
   "execution_count": 3,
   "metadata": {
    "ExecuteTime": {
     "end_time": "2021-02-10T09:13:21.370569Z",
     "start_time": "2021-02-10T09:13:21.356351Z"
    }
   },
   "outputs": [
    {
     "data": {
      "text/plain": [
       "'my name is lemon,age is 18'"
      ]
     },
     "execution_count": 3,
     "metadata": {},
     "output_type": "execute_result"
    }
   ],
   "source": [
    "f'my name is {name},age is {age}'"
   ]
  },
  {
   "cell_type": "code",
   "execution_count": 4,
   "metadata": {
    "ExecuteTime": {
     "end_time": "2021-02-10T09:14:46.679412Z",
     "start_time": "2021-02-10T09:14:46.677395Z"
    }
   },
   "outputs": [],
   "source": [
    "n1 = 3.1415926\n",
    "n2 = 31415.926\n",
    "n3 = 0.31415\n",
    "n4 = 21"
   ]
  },
  {
   "cell_type": "code",
   "execution_count": 8,
   "metadata": {
    "ExecuteTime": {
     "end_time": "2021-02-10T09:16:22.644894Z",
     "start_time": "2021-02-10T09:16:22.640904Z"
    }
   },
   "outputs": [
    {
     "data": {
      "text/plain": [
       "'保留两位小数：3.14'"
      ]
     },
     "execution_count": 8,
     "metadata": {},
     "output_type": "execute_result"
    }
   ],
   "source": [
    "'保留两位小数：%.2f'%n1"
   ]
  },
  {
   "cell_type": "code",
   "execution_count": 9,
   "metadata": {
    "ExecuteTime": {
     "end_time": "2021-02-10T09:17:16.807457Z",
     "start_time": "2021-02-10T09:17:16.803469Z"
    }
   },
   "outputs": [
    {
     "data": {
      "text/plain": [
       "'保留两位小数：3.14'"
      ]
     },
     "execution_count": 9,
     "metadata": {},
     "output_type": "execute_result"
    }
   ],
   "source": [
    "'保留两位小数：{:.2f}'.format(n1)"
   ]
  },
  {
   "cell_type": "code",
   "execution_count": 10,
   "metadata": {
    "ExecuteTime": {
     "end_time": "2021-02-10T09:18:40.656678Z",
     "start_time": "2021-02-10T09:18:40.652690Z"
    }
   },
   "outputs": [
    {
     "data": {
      "text/plain": [
       "'保留两位小数:3.14'"
      ]
     },
     "execution_count": 10,
     "metadata": {},
     "output_type": "execute_result"
    }
   ],
   "source": [
    "f'保留两位小数:{n1:.2f}'"
   ]
  },
  {
   "cell_type": "code",
   "execution_count": 11,
   "metadata": {
    "ExecuteTime": {
     "end_time": "2021-02-10T09:20:34.147481Z",
     "start_time": "2021-02-10T09:20:34.143492Z"
    }
   },
   "outputs": [
    {
     "data": {
      "text/plain": [
       "'百分比格式：31.41%'"
      ]
     },
     "execution_count": 11,
     "metadata": {},
     "output_type": "execute_result"
    }
   ],
   "source": [
    "'百分比格式：{:.2%}'.format(n3)"
   ]
  },
  {
   "cell_type": "code",
   "execution_count": 12,
   "metadata": {
    "ExecuteTime": {
     "end_time": "2021-02-10T09:22:01.567368Z",
     "start_time": "2021-02-10T09:22:01.563379Z"
    }
   },
   "outputs": [
    {
     "data": {
      "text/plain": [
       "'既有千分位分隔符，又有小数位数：31,415.93'"
      ]
     },
     "execution_count": 12,
     "metadata": {},
     "output_type": "execute_result"
    }
   ],
   "source": [
    "'既有千分位分隔符，又有小数位数：{:,.2f}'.format(n2)"
   ]
  },
  {
   "cell_type": "code",
   "execution_count": 13,
   "metadata": {
    "ExecuteTime": {
     "end_time": "2021-02-10T09:35:01.138437Z",
     "start_time": "2021-02-10T09:35:01.134448Z"
    }
   },
   "outputs": [
    {
     "data": {
      "text/plain": [
       "'      21'"
      ]
     },
     "execution_count": 13,
     "metadata": {},
     "output_type": "execute_result"
    }
   ],
   "source": [
    "'{:>8}'.format(n4)#右端对齐"
   ]
  },
  {
   "cell_type": "code",
   "execution_count": 14,
   "metadata": {
    "ExecuteTime": {
     "end_time": "2021-02-10T09:35:21.560693Z",
     "start_time": "2021-02-10T09:35:21.556705Z"
    }
   },
   "outputs": [
    {
     "data": {
      "text/plain": [
       "'21      '"
      ]
     },
     "execution_count": 14,
     "metadata": {},
     "output_type": "execute_result"
    }
   ],
   "source": [
    "'{:<8}'.format(n4)#左端对齐"
   ]
  },
  {
   "cell_type": "code",
   "execution_count": 15,
   "metadata": {
    "ExecuteTime": {
     "end_time": "2021-02-10T09:35:40.678196Z",
     "start_time": "2021-02-10T09:35:40.674175Z"
    }
   },
   "outputs": [
    {
     "data": {
      "text/plain": [
       "'   21   '"
      ]
     },
     "execution_count": 15,
     "metadata": {},
     "output_type": "execute_result"
    }
   ],
   "source": [
    "'{:^8}'.format(n4)#居中对齐"
   ]
  },
  {
   "cell_type": "code",
   "execution_count": 16,
   "metadata": {
    "ExecuteTime": {
     "end_time": "2021-02-10T09:37:53.936512Z",
     "start_time": "2021-02-10T09:37:53.932523Z"
    }
   },
   "outputs": [
    {
     "data": {
      "text/plain": [
       "'左边补零：0021'"
      ]
     },
     "execution_count": 16,
     "metadata": {},
     "output_type": "execute_result"
    }
   ],
   "source": [
    "'左边补零：{:0>4}'.format(n4)"
   ]
  },
  {
   "cell_type": "code",
   "execution_count": 17,
   "metadata": {
    "ExecuteTime": {
     "end_time": "2021-02-10T09:38:58.646662Z",
     "start_time": "2021-02-10T09:38:58.642673Z"
    }
   },
   "outputs": [
    {
     "data": {
      "text/plain": [
       "'右边补x：21xxx'"
      ]
     },
     "execution_count": 17,
     "metadata": {},
     "output_type": "execute_result"
    }
   ],
   "source": [
    "'右边补x：{:x<5}'.format(n4)"
   ]
  },
  {
   "cell_type": "code",
   "execution_count": 18,
   "metadata": {
    "ExecuteTime": {
     "end_time": "2021-02-10T09:39:56.398497Z",
     "start_time": "2021-02-10T09:39:56.394530Z"
    }
   },
   "outputs": [],
   "source": [
    "n1 = 3.1415\n",
    "n2 = -3.1415"
   ]
  },
  {
   "cell_type": "code",
   "execution_count": 20,
   "metadata": {
    "ExecuteTime": {
     "end_time": "2021-02-10T09:41:01.317351Z",
     "start_time": "2021-02-10T09:41:01.312371Z"
    }
   },
   "outputs": [
    {
     "data": {
      "text/plain": [
       "'+3.14'"
      ]
     },
     "execution_count": 20,
     "metadata": {},
     "output_type": "execute_result"
    }
   ],
   "source": [
    "'{:+.2f}'.format(n1) #正数前面加正号"
   ]
  },
  {
   "cell_type": "code",
   "execution_count": 22,
   "metadata": {
    "ExecuteTime": {
     "end_time": "2021-02-10T09:42:25.959334Z",
     "start_time": "2021-02-10T09:42:25.955345Z"
    }
   },
   "outputs": [
    {
     "data": {
      "text/plain": [
       "'-3.14'"
      ]
     },
     "execution_count": 22,
     "metadata": {},
     "output_type": "execute_result"
    }
   ],
   "source": [
    "\"{:.2f}\".format(n2) #负数前面加负号"
   ]
  },
  {
   "cell_type": "code",
   "execution_count": null,
   "metadata": {},
   "outputs": [],
   "source": []
  }
 ],
 "metadata": {
  "kernelspec": {
   "display_name": "Python 3",
   "language": "python",
   "name": "python3"
  },
  "language_info": {
   "codemirror_mode": {
    "name": "ipython",
    "version": 3
   },
   "file_extension": ".py",
   "mimetype": "text/x-python",
   "name": "python",
   "nbconvert_exporter": "python",
   "pygments_lexer": "ipython3",
   "version": "3.8.3"
  },
  "toc": {
   "base_numbering": 1,
   "nav_menu": {},
   "number_sections": true,
   "sideBar": true,
   "skip_h1_title": true,
   "title_cell": "目录",
   "title_sidebar": "Contents",
   "toc_cell": true,
   "toc_position": {},
   "toc_section_display": true,
   "toc_window_display": false
  },
  "varInspector": {
   "cols": {
    "lenName": 16,
    "lenType": 16,
    "lenVar": 40
   },
   "kernels_config": {
    "python": {
     "delete_cmd_postfix": "",
     "delete_cmd_prefix": "del ",
     "library": "var_list.py",
     "varRefreshCmd": "print(var_dic_list())"
    },
    "r": {
     "delete_cmd_postfix": ") ",
     "delete_cmd_prefix": "rm(",
     "library": "var_list.r",
     "varRefreshCmd": "cat(var_dic_list()) "
    }
   },
   "types_to_exclude": [
    "module",
    "function",
    "builtin_function_or_method",
    "instance",
    "_Feature"
   ],
   "window_display": false
  }
 },
 "nbformat": 4,
 "nbformat_minor": 4
}
